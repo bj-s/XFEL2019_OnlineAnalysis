{
 "cells": [
  {
   "cell_type": "code",
   "execution_count": null,
   "metadata": {},
   "outputs": [],
   "source": [
    "import xfelmay2019 as xfel\n",
    "\n",
    "# Plot options\n",
    "import matplotlib.pyplot as plt\n",
    "\n",
    "# Import required libraries\n",
    "import numpy as np\n",
    "import pyqtgraph as pg\n",
    "\n",
    "# Import karabo libraries\n",
    "import karabo_bridge as kb\n",
    "import karabo_data as kd"
   ]
  },
  {
   "cell_type": "markdown",
   "metadata": {},
   "source": [
    "# Global Variables to define"
   ]
  },
  {
   "cell_type": "code",
   "execution_count": null,
   "metadata": {},
   "outputs": [],
   "source": [
    "comissioningPath='/gpfs/exfel/exp/SQS/201921/p002430/raw'\n",
    "methanePath ='/gpfs/exfel/exp/SQS/201802/p002176/raw'\n",
    "\n",
    "\n",
    "\n",
    "# ***WILL NEED TO BE UPDATED WITH NEON AND METHANE CLUSTERS***\n",
    "\n",
    "tofrange = (260000,285000)\n",
    "pixels = np.arange( tofrange[0], tofrange[1] )\n",
    "\n",
    "#Regions of interest for Xenon cluster spectra.  \n",
    "onePlus=(280000 - 1000,280000 + 1500)       \n",
    "lightPeak=(266000 - 200,266000 + 100)       \n",
    "highCharge=(269000 - 200, 276000)"
   ]
  },
  {
   "cell_type": "markdown",
   "metadata": {},
   "source": [
    "# General "
   ]
  },
  {
   "cell_type": "code",
   "execution_count": null,
   "metadata": {},
   "outputs": [],
   "source": [
    "#  help(xfel) lists all functions in xfel\n",
    "\n",
    "#this gives pixels (the x-axis) for the TOF spectra, TOF spectra array, and the train ID for a given run\n",
    "pixels, tof400, tids400= xfel.getRunTOF( 400, comissioningPath, tofrange=(260000,285000) )\n",
    "\n",
    "runNumber = 400\n",
    "\n",
    "#this gives an array of train ideas for a given run\n",
    "trainIds = xfel.getTrainIds(runNumber,comissioningPath)"
   ]
  },
  {
   "cell_type": "markdown",
   "metadata": {},
   "source": [
    "# Plotting a Single TOF Spectrum with ROI defined"
   ]
  },
  {
   "cell_type": "code",
   "execution_count": null,
   "metadata": {},
   "outputs": [],
   "source": [
    "#specify run data\n",
    "run = xfel.runFormat( 400 )  \n",
    "\n",
    "#accessing all data of a given run\n",
    "runData = kd.RunDirectory(comissioningPath+run)\n",
    "\n",
    "#getting the TOF data from the run\n",
    "tof400 = np.asarray(runData.get_array( 'SQS_DIGITIZER_UTC1/ADC/1:network','digitizers.channel_1_A.raw.samples' ))[ : , tofrange[0]:tofrange[1] ]\n"
   ]
  },
  {
   "cell_type": "markdown",
   "metadata": {},
   "source": [
    "### Example 1: plotting a single TOF spectrum - average spectrum of run 400"
   ]
  },
  {
   "cell_type": "code",
   "execution_count": null,
   "metadata": {},
   "outputs": [],
   "source": [
    "#averaging all TOF data of a given run\n",
    "avgtof = xfel.averageTOF(tof400) \n",
    "\n",
    "#plotting a single TOF spectrum\n",
    "xfel.plotTOF(pixels, avgtof)"
   ]
  },
  {
   "cell_type": "markdown",
   "metadata": {},
   "source": [
    "###  Example 2: plotting the average of all TOF spectra from run 400, with ROI"
   ]
  },
  {
   "cell_type": "code",
   "execution_count": null,
   "metadata": {},
   "outputs": [],
   "source": [
    "#averaging all TOF data of a given run\n",
    "avgtof = xfel.averageTOF(tof400) \n",
    "\n",
    "#plotting the averaged TOF data with ROI's labeled\n",
    "xfel.showROIs( pixels, avgtof, \n",
    "         onePlus=onePlus, \n",
    "         lightPeak=lightPeak,\n",
    "         highCharge=highCharge )\n"
   ]
  },
  {
   "cell_type": "markdown",
   "metadata": {},
   "source": [
    "###  Example 3: plotting the average of the brightest TOF spectra from run 400, with ROI"
   ]
  },
  {
   "cell_type": "code",
   "execution_count": null,
   "metadata": {},
   "outputs": [],
   "source": [
    "#averaging the brightest TOF data of a given run\n",
    "brighttof = xfel.averageBrightestTOFs(pixels, tof400) \n",
    "\n",
    "#plotting the averaged bright TOF data with ROI's labeled\n",
    "xfel.showROIs( pixels, brighttof, \n",
    "         onePlus=onePlus, \n",
    "         lightPeak=lightPeak,\n",
    "         highCharge=highCharge )"
   ]
  },
  {
   "cell_type": "markdown",
   "metadata": {},
   "source": [
    "# Comparing TOF spectra from multiple runs\n",
    "\n",
    "    Looking at the average of the brightest spectra and labeling with respect to pressure"
   ]
  },
  {
   "cell_type": "code",
   "execution_count": null,
   "metadata": {},
   "outputs": [],
   "source": [
    "#extracting pixel axis, TOF data, and TID \n",
    "pixels, tof400, tids400= xfel.getRunTOF( 400, comissioningPath, tofrange=(260000,285000) )\n",
    "pixels, tof401, tids401= xfel.getRunTOF( 401, comissioningPath, tofrange=(260000,285000) )\n",
    "pixels, tof404, tids404= xfel.getRunTOF( 404, comissioningPath, tofrange=(260000,285000) )"
   ]
  },
  {
   "cell_type": "markdown",
   "metadata": {},
   "source": [
    "### Averaging the brightest TOF spectra from specified runs"
   ]
  },
  {
   "cell_type": "code",
   "execution_count": null,
   "metadata": {},
   "outputs": [],
   "source": [
    "#getting average TOF spectra from the brightest of each of the specfied runs\n",
    "bright400 = xfel.averageBrightestTOFs(pixels, tof400)\n",
    "bright401 = xfel.averageBrightestTOFs(pixels, tof401)\n",
    "bright404 = xfel.averageBrightestTOFs(pixels, tof404)"
   ]
  },
  {
   "cell_type": "markdown",
   "metadata": {},
   "source": [
    "### Can compare in waterfall plots"
   ]
  },
  {
   "cell_type": "code",
   "execution_count": null,
   "metadata": {},
   "outputs": [],
   "source": [
    "#plotting these averages as waterfall\n",
    "xfel.waterfallTOFs( pixels, [bright404, bright400,bright401], labels=['6 bar, 404','10 bar, 400','13.9 bar, 401'] )"
   ]
  },
  {
   "cell_type": "markdown",
   "metadata": {},
   "source": [
    "### Can compare overlaying spectra"
   ]
  },
  {
   "cell_type": "code",
   "execution_count": null,
   "metadata": {},
   "outputs": [],
   "source": [
    "#plotting these averages, overlayed\n",
    "xfel.overlayTOFs( pixels, [bright404,bright400,bright401], labels=['6 bar, 404','10 bar, 400','13.9 bar, 401'] )"
   ]
  },
  {
   "cell_type": "markdown",
   "metadata": {},
   "source": [
    "# Make a waterfall plot of the brightest TOF spectra for run 437, labeled with TID"
   ]
  },
  {
   "cell_type": "code",
   "execution_count": null,
   "metadata": {},
   "outputs": [],
   "source": [
    "pixels, tof437, trainIds =xfel.getRunTOF( 437, comissioningPath, tofrange=(260000,285000) )"
   ]
  },
  {
   "cell_type": "code",
   "execution_count": null,
   "metadata": {},
   "outputs": [],
   "source": [
    "# Choose the region of interest to use to sort the brightest\n",
    "# can set onePlus to onePlus, lightPeak, or highCharge, which are defined at the top\n",
    "# in this case, we are sorting by the X+ peak\n",
    "\n",
    "#help(xfel.waterfallBrightest_labelByTrainId)\n",
    "\n",
    "interestingTIDS437 = xfel.waterfallBrightest_labelByTrainId( pixels, tof437, np.array(trainIds), nbright=100, integrateAt=onePlus)"
   ]
  },
  {
   "cell_type": "code",
   "execution_count": null,
   "metadata": {},
   "outputs": [],
   "source": []
  },
  {
   "cell_type": "markdown",
   "metadata": {},
   "source": [
    "# Make a waterfall plot of the brightest TOF spectra for run 437, labeled with TID"
   ]
  },
  {
   "cell_type": "code",
   "execution_count": null,
   "metadata": {},
   "outputs": [],
   "source": [
    "pixels, tof437, trainIds =xfel.getRunTOF( 437, comissioningPath, tofrange=(260000,285000) )"
   ]
  },
  {
   "cell_type": "code",
   "execution_count": null,
   "metadata": {},
   "outputs": [],
   "source": [
    "interesting437 = xfel.waterfallBrightest(pixels, tof437, integrateAt=onePlus)"
   ]
  },
  {
   "cell_type": "markdown",
   "metadata": {},
   "source": [
    "# Waterfall of Brightest TOFs averaged, labeled by run number"
   ]
  },
  {
   "cell_type": "code",
   "execution_count": null,
   "metadata": {},
   "outputs": [],
   "source": [
    "runRange = np.arange(413, 415)\n",
    "\n",
    "#getting averages of brightest TOFs from the runs specified above\n",
    "avgtogs = xfel.getBrightAvgRunsTOF (runRange, comissioningPath, tofrange, integrateAt = highCharge)"
   ]
  },
  {
   "cell_type": "code",
   "execution_count": null,
   "metadata": {},
   "outputs": [],
   "source": [
    "#making a waterfall plot of the average TOFS, labeled by run number\n",
    "\n",
    "#remove waterfallDelta =, and traces will separate automatically such that they are not overlapping\n",
    "xfel.waterfallTOFs(pixels, avgtogs, labels = [str(arun) for arun in runRange], waterfallDelta = -1000)"
   ]
  },
  {
   "cell_type": "code",
   "execution_count": null,
   "metadata": {},
   "outputs": [],
   "source": [
    "help(xfel.waterfallTOFs)"
   ]
  },
  {
   "cell_type": "code",
   "execution_count": null,
   "metadata": {},
   "outputs": [],
   "source": []
  },
  {
   "cell_type": "code",
   "execution_count": null,
   "metadata": {},
   "outputs": [],
   "source": []
  },
  {
   "cell_type": "code",
   "execution_count": null,
   "metadata": {},
   "outputs": [],
   "source": []
  }
 ],
 "metadata": {
  "kernelspec": {
   "display_name": "xfel",
   "language": "python",
   "name": "xfel-1.1"
  },
  "language_info": {
   "codemirror_mode": {
    "name": "ipython",
    "version": 3
   },
   "file_extension": ".py",
   "mimetype": "text/x-python",
   "name": "python",
   "nbconvert_exporter": "python",
   "pygments_lexer": "ipython3",
   "version": "3.7.1"
  }
 },
 "nbformat": 4,
 "nbformat_minor": 2
}
