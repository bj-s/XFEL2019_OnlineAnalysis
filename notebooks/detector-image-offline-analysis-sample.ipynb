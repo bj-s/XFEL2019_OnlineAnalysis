{
 "cells": [
  {
   "cell_type": "code",
   "execution_count": null,
   "metadata": {
    "scrolled": true
   },
   "outputs": [],
   "source": [
    "# Plot options\n",
    "import matplotlib.pyplot as plt\n",
    "\n",
    "# Import required libraries\n",
    "import numpy as np\n",
    "import os\n",
    "\n",
    "# Import karabo libraries\n",
    "import karabo_bridge as kb\n",
    "import karabo_data as kd\n",
    "import xfelmay2019 as xfel\n"
   ]
  },
  {
   "cell_type": "markdown",
   "metadata": {},
   "source": [
    "# Plot maximum scattering image"
   ]
  },
  {
   "cell_type": "code",
   "execution_count": null,
   "metadata": {},
   "outputs": [],
   "source": [
    "\n",
    "def analyzeMaximumImage( runNumber, \n",
    "                        path='/gpfs/exfel/exp/SQS/201921/p002430/raw',\n",
    "                        maskRadius=100,\n",
    "                        saveDir='/home/mrware/Photos'):\n",
    "    '''\n",
    "    finds maximum scattering and plots that image, saving to saveDir\n",
    "    input:\n",
    "        runNumber: to analyze\n",
    "        path: to experiment H5s\n",
    "        maskRadius: radius below which to ignore for determining max scattering\n",
    "        saveDir: path to save picture to\n",
    "    '''\n",
    "    path='/gpfs/exfel/exp/SQS/201921/p002430/raw'\n",
    "    run = xfel.runFormat( runNumber )\n",
    "    runData = kd.RunDirectory(path+run)\n",
    "    trainIds = runData.train_ids\n",
    "    \n",
    "    scatImages = np.asarray(runData.get_array('SQS_DPU_LIC/CAM/YAG_UPSTR:daqOutput', 'data.image.pixels'))\n",
    "\n",
    "    NT,NX,NY = scatImages.shape\n",
    "    xs = np.arange(NX)\n",
    "    ys = np.arange(NY)\n",
    "    YY,XX = np.meshgrid( ys , xs )\n",
    "    RR = np.sqrt( ( XX - NX/2. )**2 + ( YY - NY/2. )**2 )\n",
    "    MASK = RR < maskRadius\n",
    "    \n",
    "    maskedScats = np.copy(scatImages)\n",
    "    maskedScats[:,MASK] = 0.\n",
    "    \n",
    "    scaledScat = np.sum( maskedScats, (1,2) ) \n",
    "    \n",
    "    indMax = np.argmax(scaledScat)\n",
    "    indMin = np.argmin(scaledScat)\n",
    "\n",
    "    scatMax = scatImages[indMax,:,:].astype(float)\n",
    "    scatMin = scatImages[indMin, :, :].astype(float)\n",
    "    \n",
    "    plt.figure(5)\n",
    "    plt.imshow(scatMax)\n",
    "    plt.title( 'Max scattering from run %d' % runNumber )\n",
    "    plt.colorbar()\n",
    "    plt.show()\n",
    "    plt.pause(2)\n",
    "    plt.savefig(saveDir + '/scatmax-run-%d' % runNumber )\n",
    "    \n",
    "    plt.figure(5)\n",
    "    plt.imshow( np.log(np.abs(scatMax/np.sum(scatMax.flatten()) -   scatMin/np.sum(scatMin.flatten())))  )\n",
    "    plt.title( 'Log of difference between scatMax/intensity-scatMin/intensity from run %d' % runNumber )\n",
    "    plt.colorbar()\n",
    "    plt.show()\n",
    "    plt.pause(2)\n",
    "    plt.savefig( saveDir + '/scatdiff-run-%d' % runNumber )\n",
    "    \n",
    "    del scatImages\n",
    "    del maskedScats\n"
   ]
  },
  {
   "cell_type": "code",
   "execution_count": null,
   "metadata": {},
   "outputs": [],
   "source": [
    "analyzeMaximumImage( runNumber=247, \n",
    "                        path='/gpfs/exfel/exp/SQS/201921/p002430/raw',\n",
    "                        maskRadius=200,\n",
    "                        saveDir = '/home/mrware')"
   ]
  },
  {
   "cell_type": "markdown",
   "metadata": {},
   "source": [
    "# Plot set of nlargest scattering images"
   ]
  },
  {
   "cell_type": "code",
   "execution_count": null,
   "metadata": {},
   "outputs": [],
   "source": [
    "\n",
    "def analyzeMaximumImages( runNumber, \n",
    "                        path='/gpfs/exfel/exp/SQS/201921/p002430/raw',\n",
    "                        maskRadius=100,\n",
    "                        saveDir='/home/mrware/Photos',\n",
    "                        nlargest=10):\n",
    "    '''\n",
    "    finds maximum scattering images and plots that image, saving to saveDir\n",
    "    input:\n",
    "        runNumber: to analyze\n",
    "        path: to experiment H5s\n",
    "        maskRadius: radius below which to ignore for determining max scattering\n",
    "        saveDir: path to save picture to\n",
    "        nlargest: number of largest images to plot\n",
    "    '''\n",
    "    path='/gpfs/exfel/exp/SQS/201921/p002430/raw'\n",
    "    run = xfel.runFormat( runNumber )\n",
    "    runData = kd.RunDirectory(path+run)\n",
    "    trainIds = runData.train_ids\n",
    "    \n",
    "    scatImages = np.asarray(runData.get_array('SQS_DPU_LIC/CAM/YAG_UPSTR:daqOutput', 'data.image.pixels'))\n",
    "\n",
    "    NT,NX,NY = scatImages.shape\n",
    "    xs = np.arange(NX)\n",
    "    ys = np.arange(NY)\n",
    "    YY,XX = np.meshgrid( ys , xs )\n",
    "    RR = np.sqrt( ( XX - NX/2. )**2 + ( YY - NY/2. )**2 )\n",
    "    MASK = RR < maskRadius\n",
    "    \n",
    "    maskedScats = np.copy(scatImages)\n",
    "    maskedScats[:,MASK] = 0.\n",
    "    \n",
    "    scaledScat = np.sum( maskedScats, (1,2) ) \n",
    "    indMaxToMin = np.argsort( scaledScat )[-nlargest:]\n",
    "    \n",
    "    fig, axes = plt.subplots(nlargest, 1, figsize=(10,100))\n",
    "    \n",
    "    for idx,ax in enumerate(axes):\n",
    "        realInd = indMaxToMin[idx]\n",
    "        plotme=scatImages[realInd,:,:].squeeze()\n",
    "        im=ax.imshow( plotme.astype(float) )\n",
    "        ax.set_title('run %d and tid %d' % (runNumber, trainIds[realInd]))\n",
    "\n",
    "    plt.show()\n",
    "    plt.pause(2)\n",
    "    plt.savefig(saveDir + '/scatmaxes-run-%d' % runNumber )\n",
    "    \n",
    "    \n",
    "    del scatImages\n",
    "    del maskedScats\n"
   ]
  },
  {
   "cell_type": "code",
   "execution_count": null,
   "metadata": {},
   "outputs": [],
   "source": [
    "%matplotlib inline\n",
    "analyzeMaximumImages( runNumber=244, \n",
    "                        path='/gpfs/exfel/exp/SQS/201921/p002430/raw',\n",
    "                        maskRadius=200,\n",
    "                        saveDir = '/home/mrware')"
   ]
  }
 ],
 "metadata": {
  "kernelspec": {
   "display_name": "xfel",
   "language": "python",
   "name": "xfel-1.1"
  },
  "language_info": {
   "codemirror_mode": {
    "name": "ipython",
    "version": 3
   },
   "file_extension": ".py",
   "mimetype": "text/x-python",
   "name": "python",
   "nbconvert_exporter": "python",
   "pygments_lexer": "ipython3",
   "version": "3.7.1"
  }
 },
 "nbformat": 4,
 "nbformat_minor": 2
}
