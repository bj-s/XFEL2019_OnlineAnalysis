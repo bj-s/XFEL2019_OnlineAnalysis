{
 "cells": [
  {
   "cell_type": "code",
   "execution_count": null,
   "metadata": {
    "scrolled": true
   },
   "outputs": [],
   "source": [
    "# Plot options\n",
    "import matplotlib.pyplot as plt\n",
    "\n",
    "# Import required libraries\n",
    "import numpy as np\n",
    "import pyqtgraph as pg\n",
    "\n",
    "# Import karabo libraries\n",
    "import karabo_bridge as kb\n",
    "import karabo_data as kd\n",
    "import xfelmay2019 as tofoff\n"
   ]
  },
  {
   "cell_type": "markdown",
   "metadata": {},
   "source": [
    "# Compare two TOF spectra"
   ]
  },
  {
   "cell_type": "code",
   "execution_count": null,
   "metadata": {},
   "outputs": [],
   "source": [
    "path='/gpfs/exfel/exp/SQS/201921/p002430/raw'\n",
    "run = tofoff.runFormat( 252 )\n",
    "runData = kd.RunDirectory(path+run)\n",
    "tofavg252 = tofoff.tofAverager( runData )\n",
    "\n",
    "\n",
    "run = tofoff.runFormat( 228 )\n",
    "runData = kd.RunDirectory(path+run)\n",
    "tofavg228 = tofoff.tofAverager( runData )"
   ]
  },
  {
   "cell_type": "code",
   "execution_count": null,
   "metadata": {},
   "outputs": [],
   "source": [
    "plt.figure( figsize=(20,5) )\n",
    "\n",
    "myrange = (265000, 285000)\n",
    "\n",
    "red252 = tofavg252[myrange[0]:myrange[1]]\n",
    "red228 = tofavg228[myrange[0]:myrange[1]]\n",
    "\n",
    "plt.plot(red252,alpha=0.5)\n",
    "plt.plot(red228, alpha=0.5)\n"
   ]
  },
  {
   "cell_type": "code",
   "execution_count": null,
   "metadata": {},
   "outputs": [],
   "source": []
  }
 ],
 "metadata": {
  "kernelspec": {
   "display_name": "xfel",
   "language": "python",
   "name": "xfel-1.1"
  },
  "language_info": {
   "codemirror_mode": {
    "name": "ipython",
    "version": 3
   },
   "file_extension": ".py",
   "mimetype": "text/x-python",
   "name": "python",
   "nbconvert_exporter": "python",
   "pygments_lexer": "ipython3",
   "version": "3.7.1"
  }
 },
 "nbformat": 4,
 "nbformat_minor": 2
}
