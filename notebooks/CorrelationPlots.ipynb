{
 "cells": [
  {
   "cell_type": "code",
   "execution_count": null,
   "metadata": {},
   "outputs": [],
   "source": [
    "import xfelmay2019 as xfel\n",
    "\n",
    "# Plot options\n",
    "import matplotlib.pyplot as plt\n",
    "\n",
    "# Import required libraries\n",
    "import numpy as np\n",
    "import pyqtgraph as pg\n",
    "\n",
    "# Import karabo libraries\n",
    "import karabo_bridge as kb\n",
    "import karabo_data as kd"
   ]
  },
  {
   "cell_type": "code",
   "execution_count": null,
   "metadata": {},
   "outputs": [],
   "source": [
    "Path ='/gpfs/exfel/exp/SQS/201802/p002176/raw'\n",
    "roi=(266000 - 200,266000 + 100)\n",
    "run = 98\n",
    "\n",
    "#Neon ROI's\n",
    "onePlus=(271000,272000)\n",
    "lightPeak=(266000 - 200,266000 + 100) \n",
    "highCharge=(267000, 270000)"
   ]
  },
  {
   "cell_type": "markdown",
   "metadata": {},
   "source": [
    "# CorrelationPlot for Integrated Light Peak on TOF v FEL pulse energy"
   ]
  },
  {
   "cell_type": "code",
   "execution_count": null,
   "metadata": {},
   "outputs": [],
   "source": [
    "xfel.correlationPlots(run, Path, onePlus, offset = -1)"
   ]
  },
  {
   "cell_type": "markdown",
   "metadata": {},
   "source": [
    "#  CorrelationPlot for Integrated MCP v FEL pulse energy"
   ]
  },
  {
   "cell_type": "code",
   "execution_count": null,
   "metadata": {},
   "outputs": [],
   "source": [
    "runNum = 98\n",
    "ptids, PEs = xfel.getPulseEnergies( runNum , Path )\n",
    "\n",
    "\n",
    "def getRunMCP( runNumber, path,\n",
    "               dirspec='SQS_DPU_LIC/CAM/YAG_UPSTR:daqOutput',\n",
    "               elementspec='data.image.pixels' ):\n",
    "     '''\n",
    "     gets MCP data for a given run\n",
    "         inputs\n",
    "             runNumber = number of run of interest\n",
    "             path = path for data; defined at the top\n",
    "         outputs\n",
    "             MCPdata\n",
    "             trainIds\n",
    "\n",
    "     '''\n",
    "     run = xfel.runFormat( runNumber )\n",
    "     runData = kd.RunDirectory(path+run)\n",
    "\n",
    "     data = runData.get_array( dirspec,elementspec )\n",
    "     mcpdata=np.asarray(data)\n",
    "     trainIds =np.asarray(data.trainId)\n",
    "     return mcpdata, trainIds\n",
    "\n",
    "\n",
    "mcp,mtids = getRunMCP( runNum, Path )\n",
    "\n",
    "\n",
    "summcp = np.sum(mcp,(1,2))\n",
    "\n",
    "_,pinds,minds = np.intersect1d( ptids, mtids, return_indices=True)\n",
    "subsum = summcp[minds]\n",
    "subpes = PEs[pinds]\n",
    "\n",
    "\n",
    "plt.scatter( subpes,subsum )\n",
    "plt.xlabel('Pulse Energy microJoule')\n",
    "plt.ylabel('Integrated MCP')"
   ]
  },
  {
   "cell_type": "code",
   "execution_count": null,
   "metadata": {},
   "outputs": [],
   "source": []
  }
 ],
 "metadata": {
  "kernelspec": {
   "display_name": "xfel",
   "language": "python",
   "name": "xfel-1.1"
  },
  "language_info": {
   "codemirror_mode": {
    "name": "ipython",
    "version": 3
   },
   "file_extension": ".py",
   "mimetype": "text/x-python",
   "name": "python",
   "nbconvert_exporter": "python",
   "pygments_lexer": "ipython3",
   "version": "3.7.1"
  }
 },
 "nbformat": 4,
 "nbformat_minor": 2
}
