{
 "cells": [
  {
   "cell_type": "markdown",
   "metadata": {},
   "source": [
    "*Hint: Jupyter Notebooks feature autocompletion for modules and there functions - simply use the tab key for that in a code block*"
   ]
  },
  {
   "cell_type": "markdown",
   "metadata": {},
   "source": [
    "# Import Python Modules\n",
    "for `sqs_nqs_tools`:\n",
    "`sqs_nqs_tools.offline` contains all (sub)-modules that are interesting for offline analysis\n",
    "* `access` contains functions that use karabo data to enable easy access to hdf5 'raw' files (usually not directly used)\n",
    "* `adata` contains functions to get some devices data (eg tof traces, motor position etc ...)\n",
    "* `tof` contains functions for easy processing, analyzing and plotting of TOF data"
   ]
  },
  {
   "cell_type": "code",
   "execution_count": null,
   "metadata": {},
   "outputs": [],
   "source": [
    "import sqs_nqs_tools as nqs\n",
    "from sqs_nqs_tools.offline import access, adata, tof\n",
    "\n",
    "# Plot options\n",
    "import matplotlib.pyplot as plt\n",
    "\n",
    "# Import required libraries\n",
    "import numpy as np \n",
    "import pyqtgraph as pg\n",
    "\n",
    "# Import karabo libraries\n",
    "import karabo_bridge as kb\n",
    "import karabo_data as kd"
   ]
  },
  {
   "cell_type": "markdown",
   "metadata": {},
   "source": [
    "# Basic functions for reading offline data\n",
    "Define variable `raw_path` for path with run folders"
   ]
  },
  {
   "cell_type": "code",
   "execution_count": null,
   "metadata": {},
   "outputs": [],
   "source": [
    "raw_path ='/gpfs/exfel/exp/SQS/201802/p002195/scratch'\n",
    "#raw_path ='/gpfs/exfel/exp/SQS/201802/p002176/raw'"
   ]
  },
  {
   "cell_type": "markdown",
   "metadata": {},
   "source": [
    "## Read TOF data"
   ]
  },
  {
   "cell_type": "markdown",
   "metadata": {},
   "source": [
    "### Do it the hard and fundamental way\n",
    "Define the paths that point to the TOF data - there a two paths `dirspec` pointing to the device and `elementspec` pointing to a specific part of the data stored for that device\n",
    "\n",
    "*Note: this is to show you the functionality usually you will use the **easy and convenient way**.* You may want to skip the hard and fundamental way."
   ]
  },
  {
   "cell_type": "code",
   "execution_count": null,
   "metadata": {},
   "outputs": [],
   "source": [
    "dirspec='SQS_DIGITIZER_UTC1/ADC/1:network'\n",
    "elementspec='digitizers.channel_1_A.raw.samples'"
   ]
  },
  {
   "cell_type": "markdown",
   "metadata": {},
   "source": [
    "Now let's get the data"
   ]
  },
  {
   "cell_type": "code",
   "execution_count": null,
   "metadata": {},
   "outputs": [],
   "source": [
    "tofdata = access.getData(raw_path + access.runFormat(100),dirspec,elementspec)"
   ]
  },
  {
   "cell_type": "markdown",
   "metadata": {},
   "source": [
    "`tofdata` is an xarray DataArray. (see documentation http://xarray.pydata.org/en/stable/)\n",
    "\n",
    "It has 2 dimensions [`shot`, `samples`]\n",
    "* `shot` contains all shots for the whole run\n",
    "* `samples` contains all samples from the digitizer - for our sample run there are 600'000 samples\n",
    "\n",
    "It is a labeled array. The labels here are the `trainId`s. You can retrieve a list of trainIds from the array `tofdata.trainId`.\n",
    "\n",
    "This labeling enables the selection of a shot not only by index, but also by trainId. Here we demonstrate this by selecting such trace and plotting it"
   ]
  },
  {
   "cell_type": "code",
   "execution_count": null,
   "metadata": {},
   "outputs": [],
   "source": [
    "single_trace=tofdata.sel(trainId=108779907)\n",
    "plt.plot(single_trace)\n",
    "plt.show()"
   ]
  },
  {
   "cell_type": "markdown",
   "metadata": {},
   "source": [
    "you can also plot a single trace by index and show the corresponding train id in the title:"
   ]
  },
  {
   "cell_type": "code",
   "execution_count": null,
   "metadata": {},
   "outputs": [],
   "source": [
    "single_trace=tofdata[5,:]\n",
    "plt.plot(single_trace)\n",
    "plt.title(\"Train ID: \"+str(int(single_trace.trainId)))\n",
    "plt.show()"
   ]
  },
  {
   "cell_type": "markdown",
   "metadata": {},
   "source": [
    "or you plot an average over all shots in the run - you may also select only the range of the TOF data you are interested in"
   ]
  },
  {
   "cell_type": "code",
   "execution_count": null,
   "metadata": {
    "scrolled": true
   },
   "outputs": [],
   "source": [
    "avg_trace=np.mean(tofdata,axis=0)\n",
    "plt.plot(avg_trace)\n",
    "plt.title(\"Average - Full range\")\n",
    "plt.show()\n",
    "\n",
    "tof_range = range(250000,480000)\n",
    "plt.plot(tof_range,avg_trace[tof_range])\n",
    "plt.title(\"Average - Selected range\")\n",
    "plt.show()"
   ]
  },
  {
   "cell_type": "markdown",
   "metadata": {},
   "source": [
    "You may want to integrate over certain ranges - we show this for the averaged traces:"
   ]
  },
  {
   "cell_type": "code",
   "execution_count": null,
   "metadata": {},
   "outputs": [],
   "source": [
    "# make a list of ranges\n",
    "ranges = list()\n",
    "# make a list for the integrals\n",
    "integrals = list()\n",
    "# add ranges to that list of ranges\n",
    "ranges.append(range(260000,280000))\n",
    "ranges.append(range(300000,320000))\n",
    "ranges.append(range(340000,360000))\n",
    "\n",
    "#plot tof trace\n",
    "plt.plot(tof_range,avg_trace[tof_range])\n",
    "#plot ranges\n",
    "for i in range(len(ranges)):\n",
    "    plt.axvspan(min(ranges[i]),max(ranges[i]),alpha=0.1) #plt.axvspan(min x , max x , alpha=0.1 makes transpancy - 0 fully transparent, 1 not transparent)\n",
    "plt.show() # give out the plot and show it in notebook\n",
    "\n",
    "#do the integrals\n",
    "for i in range(len(ranges)): # this is a for loop equal to for i = 0:len(ranges) in matlab\n",
    "    integrals.append(np.sum(avg_trace[ranges[i]]))\n",
    "#print the results\n",
    "print(\"Integrals : \" + str(np.asarray(np.round(integrals,2))))"
   ]
  },
  {
   "cell_type": "markdown",
   "metadata": {},
   "source": [
    "### Do it the easy and convenient way\n",
    "\n",
    "For the easy and convenient way we have already some default values in place. \n",
    "\n",
    "`adata.getTOF()` is the function to get the tof data. (remember: `adata` is used to access data in a convenient fashion)\n",
    "\n",
    "It takes one required argument, that is the run number e.g. 100.\n",
    "\n",
    "#### Default Values and Optional Arguments\n",
    "`dirspec` and `elementspec` are provided, but in case they differ for your case you can call them as keywordarguments in `adata.getTOF`. \n",
    "\n",
    "The same goes for `path` here the `raw` directory for the current experiment (2195) is the default value - since we are using a run that we put in the scratch directory, the `path` to the directory containg the run folder(s) is specified as a keywordargument. \n",
    "\n",
    "Also the `tof range` may is to specifiy. Here the default value is likely not to be applicable to your situation."
   ]
  },
  {
   "cell_type": "code",
   "execution_count": null,
   "metadata": {},
   "outputs": [],
   "source": [
    "[TOFtrace, TOFrange]  = adata.getTOF(100, path=raw_path, tofrange=(250000,480000))"
   ]
  },
  {
   "cell_type": "markdown",
   "metadata": {},
   "source": [
    "It is very simple now to make a simple plot (even with labeled axis) of a single trace selected by index:\n",
    "(remember the `tof` module will provide helpful functions for plotting and processing)"
   ]
  },
  {
   "cell_type": "code",
   "execution_count": null,
   "metadata": {},
   "outputs": [],
   "source": [
    "tof.plotTOF(TOFrange, TOFtrace[5,:])"
   ]
  },
  {
   "cell_type": "markdown",
   "metadata": {},
   "source": [
    "Or by train id"
   ]
  },
  {
   "cell_type": "code",
   "execution_count": null,
   "metadata": {},
   "outputs": [],
   "source": [
    "tof.plotTOF(TOFrange, TOFtrace.sel(trainId=108779907))"
   ]
  },
  {
   "cell_type": "markdown",
   "metadata": {},
   "source": [
    "We can also make an average"
   ]
  },
  {
   "cell_type": "code",
   "execution_count": null,
   "metadata": {},
   "outputs": [],
   "source": [
    "tof.plotTOF(TOFrange, tof.averageTOF(TOFtrace))"
   ]
  },
  {
   "cell_type": "markdown",
   "metadata": {},
   "source": [
    "Plot the 100 brightest tof spectra for a run in a waterfall plot\n",
    "keywordarguments\n",
    "* `nbright` - number of brightest tof spectra to show\n",
    "* `threshSum` - eg. if 0.1 a shot is only even considered when its overall integral is at least 10% of the maximum overall integral for the run\n",
    "* `behlkeAt` - index at which behlke is switched on - everything before is excluded\n",
    "* `integrateAt` - tofrange over which is integrated to determine the brightest shot\n",
    "\n",
    "function returns an array with the train id for the xx brightest shots"
   ]
  },
  {
   "cell_type": "code",
   "execution_count": null,
   "metadata": {},
   "outputs": [],
   "source": [
    "brightest_shots_ids = tof.waterfallBrightest_labelByTrainId(TOFrange, TOFtrace, nbright=100, \n",
    "                                      threshSum=0.1, behlkeAt=268000,\n",
    "                                      integrateAt=(269000 - 200, 276000))"
   ]
  },
  {
   "cell_type": "code",
   "execution_count": null,
   "metadata": {},
   "outputs": [],
   "source": []
  },
  {
   "cell_type": "code",
   "execution_count": null,
   "metadata": {},
   "outputs": [],
   "source": []
  }
 ],
 "metadata": {
  "kernelspec": {
   "display_name": "Python 3",
   "language": "python",
   "name": "python3"
  },
  "language_info": {
   "codemirror_mode": {
    "name": "ipython",
    "version": 3
   },
   "file_extension": ".py",
   "mimetype": "text/x-python",
   "name": "python",
   "nbconvert_exporter": "python",
   "pygments_lexer": "ipython3",
   "version": "3.6.7"
  }
 },
 "nbformat": 4,
 "nbformat_minor": 2
}
