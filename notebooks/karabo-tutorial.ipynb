{
 "cells": [
  {
   "cell_type": "code",
   "execution_count": 1,
   "metadata": {},
   "outputs": [],
   "source": [
    "import numpy as np\n",
    "import karabo_bridge as kb\n",
    "import karabo_data as kd\n",
    "\n"
   ]
  },
  {
   "cell_type": "code",
   "execution_count": 6,
   "metadata": {},
   "outputs": [],
   "source": [
    "path = '/gpfs/exfel/exp/SQS/201921/p002430/raw'\n",
    "run = '/r0116'"
   ]
  },
  {
   "cell_type": "code",
   "execution_count": 8,
   "metadata": {},
   "outputs": [],
   "source": [
    "runData = kd.RunDirectory(path+run)"
   ]
  },
  {
   "cell_type": "code",
   "execution_count": 9,
   "metadata": {},
   "outputs": [
    {
     "data": {
      "text/plain": [
       "frozenset({'FUSION_CDG',\n",
       "           'P_GATT',\n",
       "           'SA3_XTD10_MONO/MDL/PHOTON_ENERGY',\n",
       "           'SA3_XTD10_VAC/GAUGE/G30510C',\n",
       "           'SA3_XTD10_XGM/XGM/DOOCS',\n",
       "           'SQS_DPU_LIC/CAM/YAG_UPSTR',\n",
       "           'SQS_DPU_LIC/MOTOR/YAG_Y_UPSTR',\n",
       "           'SQS_DPU_LIC/PROC/YAG_UPSTR',\n",
       "           'SQS_NQS_CRSC/ACTRL/SLIT_Z_WIDTH',\n",
       "           'SQS_NQS_CRSC/ASENS/SLIT_Z_WIDTH',\n",
       "           'SQS_NQS_CRSC/GAUGE/STAGE_1',\n",
       "           'SQS_NQS_CRSC/GAUGE/STAGE_2',\n",
       "           'SQS_NQS_CRSC/GAUGE/STAGE_3',\n",
       "           'SQS_NQS_CRSC/MOTOR/NOZZLE_X',\n",
       "           'SQS_NQS_CRSC/MOTOR/NOZZLE_Y',\n",
       "           'SQS_NQS_CRSC/MOTOR/NOZZLE_Z',\n",
       "           'SQS_NQS_CRSC/TSYS/PARKER_TRIGGER',\n",
       "           'SQS_NQS_DVMIS/TSYS/BEHLKE-1_TRIGGER',\n",
       "           'SQS_NQS_DVMIS/TSYS/BEHLKE-2_TRIGGER',\n",
       "           'SQS_NQS_MCPSCD/TSYS/CAMERA_TRIGGER',\n",
       "           'SQS_NQS_TPAD/TSYS/CAM_TRIGGER',\n",
       "           'SQS_NQS_VAC/GAUGE/DUMP',\n",
       "           'SQS_RR_UTC/TSYS/TIMESERVER'})"
      ]
     },
     "execution_count": 9,
     "metadata": {},
     "output_type": "execute_result"
    }
   ],
   "source": [
    "runData.control_sources"
   ]
  },
  {
   "cell_type": "code",
   "execution_count": null,
   "metadata": {},
   "outputs": [],
   "source": [
    "runData."
   ]
  },
  {
   "cell_type": "code",
   "execution_count": 12,
   "metadata": {},
   "outputs": [
    {
     "name": "stdout",
     "output_type": "stream",
     "text": [
      "Processing train 100943859\n"
     ]
    }
   ],
   "source": [
    "\n",
    "for tid, data in runData.trains():\n",
    "    print(\"Processing train\", tid)\n",
    "    break"
   ]
  },
  {
   "cell_type": "code",
   "execution_count": 15,
   "metadata": {},
   "outputs": [
    {
     "ename": "AttributeError",
     "evalue": "'builtin_function_or_method' object has no attribute 'keys'",
     "output_type": "error",
     "traceback": [
      "\u001b[0;31m---------------------------------------------------------------------------\u001b[0m",
      "\u001b[0;31mAttributeError\u001b[0m                            Traceback (most recent call last)",
      "\u001b[0;32m<ipython-input-15-010ad8c20db3>\u001b[0m in \u001b[0;36m<module>\u001b[0;34m()\u001b[0m\n\u001b[0;32m----> 1\u001b[0;31m \u001b[0mdata\u001b[0m\u001b[0;34m.\u001b[0m\u001b[0mvalues\u001b[0m\u001b[0;34m.\u001b[0m\u001b[0mkeys\u001b[0m\u001b[0;34m\u001b[0m\u001b[0;34m\u001b[0m\u001b[0m\n\u001b[0m",
      "\u001b[0;31mAttributeError\u001b[0m: 'builtin_function_or_method' object has no attribute 'keys'"
     ]
    }
   ],
   "source": []
  },
  {
   "cell_type": "code",
   "execution_count": 13,
   "metadata": {},
   "outputs": [
    {
     "name": "stdout",
     "output_type": "stream",
     "text": [
      "# of trains:    640\n",
      "Duration:       0:01:03.900000\n",
      "First train ID: 100943859\n",
      "Last train ID:  100944498\n",
      "\n",
      "0 detector modules ()\n",
      "\n",
      "4 instrument sources (excluding detectors):\n",
      "  - SA3_XTD10_XGM/XGM/DOOCS:output\n",
      "  - SQS_DIGITIZER_UTC1/ADC/1:network\n",
      "  - SQS_DPU_LIC/CAM/YAG_UPSTR:daqOutput\n",
      "  - SQS_DPU_LIC/PROC/YAG_UPSTR:output\n",
      "\n",
      "23 control sources:\n",
      "  - FUSION_CDG\n",
      "  - P_GATT\n",
      "  - SA3_XTD10_MONO/MDL/PHOTON_ENERGY\n",
      "  - SA3_XTD10_VAC/GAUGE/G30510C\n",
      "  - SA3_XTD10_XGM/XGM/DOOCS\n",
      "  - SQS_DPU_LIC/CAM/YAG_UPSTR\n",
      "  - SQS_DPU_LIC/MOTOR/YAG_Y_UPSTR\n",
      "  - SQS_DPU_LIC/PROC/YAG_UPSTR\n",
      "  - SQS_NQS_CRSC/ACTRL/SLIT_Z_WIDTH\n",
      "  - SQS_NQS_CRSC/ASENS/SLIT_Z_WIDTH\n",
      "  - SQS_NQS_CRSC/GAUGE/STAGE_1\n",
      "  - SQS_NQS_CRSC/GAUGE/STAGE_2\n",
      "  - SQS_NQS_CRSC/GAUGE/STAGE_3\n",
      "  - SQS_NQS_CRSC/MOTOR/NOZZLE_X\n",
      "  - SQS_NQS_CRSC/MOTOR/NOZZLE_Y\n",
      "  - SQS_NQS_CRSC/MOTOR/NOZZLE_Z\n",
      "  - SQS_NQS_CRSC/TSYS/PARKER_TRIGGER\n",
      "  - SQS_NQS_DVMIS/TSYS/BEHLKE-1_TRIGGER\n",
      "  - SQS_NQS_DVMIS/TSYS/BEHLKE-2_TRIGGER\n",
      "  - SQS_NQS_MCPSCD/TSYS/CAMERA_TRIGGER\n",
      "  - SQS_NQS_TPAD/TSYS/CAM_TRIGGER\n",
      "  - SQS_NQS_VAC/GAUGE/DUMP\n",
      "  - SQS_RR_UTC/TSYS/TIMESERVER\n",
      "\n"
     ]
    }
   ],
   "source": [
    "runData.info()"
   ]
  },
  {
   "cell_type": "code",
   "execution_count": null,
   "metadata": {},
   "outputs": [],
   "source": []
  }
 ],
 "metadata": {
  "kernelspec": {
   "display_name": "Python 3",
   "language": "python",
   "name": "python3"
  },
  "language_info": {
   "codemirror_mode": {
    "name": "ipython",
    "version": 3
   },
   "file_extension": ".py",
   "mimetype": "text/x-python",
   "name": "python",
   "nbconvert_exporter": "python",
   "pygments_lexer": "ipython3",
   "version": "3.6.7"
  }
 },
 "nbformat": 4,
 "nbformat_minor": 2
}
