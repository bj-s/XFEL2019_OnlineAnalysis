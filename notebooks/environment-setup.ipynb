{
 "cells": [
  {
   "cell_type": "code",
   "execution_count": 7,
   "metadata": {
    "scrolled": true
   },
   "outputs": [
    {
     "name": "stdout",
     "output_type": "stream",
     "text": [
      "Found the following scripts: ['scripts/xfelmay2019-bgcalc.py', 'scripts/xfelmay2019-tofpeakfind.py', 'scripts/xfelmay2019-imagepreview.py', 'scripts/xfelmay2019-toflive.py']\n",
      "running develop\n",
      "running egg_info\n",
      "creating xfelmay2019.egg-info\n",
      "writing xfelmay2019.egg-info/PKG-INFO\n",
      "writing dependency_links to xfelmay2019.egg-info/dependency_links.txt\n",
      "writing requirements to xfelmay2019.egg-info/requires.txt\n",
      "writing top-level names to xfelmay2019.egg-info/top_level.txt\n",
      "writing manifest file 'xfelmay2019.egg-info/SOURCES.txt'\n",
      "reading manifest file 'xfelmay2019.egg-info/SOURCES.txt'\n",
      "reading manifest template 'MANIFEST.in'\n",
      "writing manifest file 'xfelmay2019.egg-info/SOURCES.txt'\n",
      "running build_ext\n",
      "Creating /home/heilrath/.local/lib/python3.6/site-packages/xfelmay2019.egg-link (link to .)\n",
      "Adding xfelmay2019 0+untagged.89.g6d51d9b.dirty to easy-install.pth file\n",
      "Installing xfelmay2019-bgcalc.py script to /home/heilrath/.local/bin\n",
      "Installing xfelmay2019-tofpeakfind.py script to /home/heilrath/.local/bin\n",
      "Installing xfelmay2019-imagepreview.py script to /home/heilrath/.local/bin\n",
      "Installing xfelmay2019-toflive.py script to /home/heilrath/.local/bin\n",
      "\n",
      "Installed /home/heilrath/kuschelware\n",
      "Processing dependencies for xfelmay2019==0+untagged.89.g6d51d9b.dirty\n",
      "Searching for numpy==1.16.1\n",
      "Best match: numpy 1.16.1\n",
      "Adding numpy 1.16.1 to easy-install.pth file\n",
      "Installing f2py script to /home/heilrath/.local/bin\n",
      "Installing f2py3 script to /home/heilrath/.local/bin\n",
      "Installing f2py3.6 script to /home/heilrath/.local/bin\n",
      "\n",
      "Using /home/heilrath/.local/lib/python3.6/site-packages\n",
      "Finished processing dependencies for xfelmay2019==0+untagged.89.g6d51d9b.dirty\n"
     ]
    }
   ],
   "source": [
    "!cd ..; ./setup.py develop --user"
   ]
  },
  {
   "cell_type": "code",
   "execution_count": null,
   "metadata": {},
   "outputs": [],
   "source": []
  }
 ],
 "metadata": {
  "kernelspec": {
   "display_name": "Python 3",
   "language": "python",
   "name": "python3"
  },
  "language_info": {
   "codemirror_mode": {
    "name": "ipython",
    "version": 3
   },
   "file_extension": ".py",
   "mimetype": "text/x-python",
   "name": "python",
   "nbconvert_exporter": "python",
   "pygments_lexer": "ipython3",
   "version": "3.6.7"
  }
 },
 "nbformat": 4,
 "nbformat_minor": 2
}
